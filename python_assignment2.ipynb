{
 "cells": [
  {
   "cell_type": "code",
   "execution_count": 4,
   "metadata": {},
   "outputs": [
    {
     "name": "stdout",
     "output_type": "stream",
     "text": [
      "Enter the distance of the plane: 6500\n",
      "Turn Around\n"
     ]
    }
   ],
   "source": [
    "#Question 1\n",
    "\n",
    "distance = int(input(\"Enter the distance of the plane: \"))\n",
    "if(distance <= 1000):\n",
    "    print(\"Safe to Land\")\n",
    "elif(distance >=1000 and distance <= 5000):\n",
    "    print(\"Bring down to 1000\")\n",
    "else: \n",
    "    print(\"Turn Around\")"
   ]
  },
  {
   "cell_type": "code",
   "execution_count": 11,
   "metadata": {},
   "outputs": [
    {
     "name": "stdout",
     "output_type": "stream",
     "text": [
      "2 3 5 7 11 13 17 19 23 29 31 37 41 43 47 53 59 61 67 71 73 79 83 89 97 101 103 107 109 113 127 131 137 139 149 151 157 163 167 173 179 181 191 193 197 199 "
     ]
    }
   ],
   "source": [
    "#Question 2\n",
    "l=[2]\n",
    "for i in range(3,201):\n",
    "    f=0\n",
    "    for j in range(2,i):\n",
    "        if i % j ==0:\n",
    "            f=1\n",
    "            break\n",
    "    if f==0:\n",
    "        l.append(i)\n",
    "for i in l:\n",
    "    print(i,end=' ')"
   ]
  },
  {
   "cell_type": "code",
   "execution_count": null,
   "metadata": {},
   "outputs": [],
   "source": []
  }
 ],
 "metadata": {
  "kernelspec": {
   "display_name": "Python 3",
   "language": "python",
   "name": "python3"
  },
  "language_info": {
   "codemirror_mode": {
    "name": "ipython",
    "version": 3
   },
   "file_extension": ".py",
   "mimetype": "text/x-python",
   "name": "python",
   "nbconvert_exporter": "python",
   "pygments_lexer": "ipython3",
   "version": "3.7.4"
  }
 },
 "nbformat": 4,
 "nbformat_minor": 2
}
